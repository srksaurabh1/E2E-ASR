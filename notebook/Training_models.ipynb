{
 "cells": [
  {
   "cell_type": "markdown",
   "metadata": {
    "id": "WG4UhyYixqvr"
   },
   "source": [
    "# Manifest for large dataset"
   ]
  },
  {
   "cell_type": "code",
   "execution_count": 2,
   "metadata": {
    "id": "iJzAUhK7kbO8",
    "vscode": {
     "languageId": "python"
    }
   },
   "outputs": [
    {
     "name": "stdout",
     "output_type": "stream",
     "text": [
      "\u001b[1;31mE: \u001b[0mCould not open lock file /var/lib/dpkg/lock-frontend - open (13: Permission denied)\u001b[0m\n",
      "\u001b[1;31mE: \u001b[0mUnable to acquire the dpkg frontend lock (/var/lib/dpkg/lock-frontend), are you root?\u001b[0m\n"
     ]
    }
   ],
   "source": [
    "# install sox\n",
    "!sudo apt install sox\n",
    "# !pip install subprocess.run\n",
    "# !pip install sox"
   ]
  },
  {
   "cell_type": "code",
   "execution_count": null,
   "metadata": {
    "id": "jlk58XNScLvs",
    "vscode": {
     "languageId": "python"
    }
   },
   "outputs": [],
   "source": [
    "#Manifest file - train.json\n",
    "# 1 hr 6 mins+ - error\n",
    "! python /content/drive/MyDrive/python/NeMo/scripts/manifest.py \\\n",
    "--root_dir=/content/drive/MyDrive/python/dataset/huggingface/train \\\n",
    "--dest_folder=/content/drive/MyDrive/python/manifest/huggingface \\\n",
    "--set_name=train"
   ]
  },
  {
   "cell_type": "code",
   "execution_count": null,
   "metadata": {
    "id": "7Cici4dzc3iH",
    "vscode": {
     "languageId": "python"
    }
   },
   "outputs": [],
   "source": [
    "#Manifest file - valid.json\n",
    "! python /content/drive/MyDrive/python/NeMo/scripts/manifest.py \\\n",
    "--root_dir=/content/drive/MyDrive/python/dataset/huggingface/valid \\\n",
    "--dest_folder=/content/drive/MyDrive/python/manifest/huggingface\\\n",
    "--set_name=valid"
   ]
  },
  {
   "cell_type": "markdown",
   "metadata": {
    "id": "qIt6YaVlECpl"
   },
   "source": [
    "# Tokenizer"
   ]
  },
  {
   "cell_type": "markdown",
   "metadata": {
    "id": "hl1X_vXSEEVL"
   },
   "source": [
    "### WPE"
   ]
  },
  {
   "cell_type": "code",
   "execution_count": null,
   "metadata": {
    "colab": {
     "base_uri": "https://localhost:8080/"
    },
    "id": "qY_N5o1EEK5u",
    "outputId": "48311ac2-25b6-4f43-96b0-97801ad5f3ce",
    "vscode": {
     "languageId": "python"
    }
   },
   "outputs": [],
   "source": [
    "# creating documnet.txt and vocab.txt files\n",
    "!python /content/drive/MyDrive/python/NeMo/scripts/tokenizers/process_asr_text_tokenizer.py \\\n",
    "--manifest=/content/drive/MyDrive/python/manifest/huggingface/train.json\\\n",
    "--data_root=/content/drive/MyDrive/python/manifest/huggingface \\\n",
    "--vocab_size=100 \\\n",
    "--tokenizer=wpe"
   ]
  },
  {
   "cell_type": "markdown",
   "metadata": {
    "id": "MY_DQUtKEGSw"
   },
   "source": [
    "### BPE"
   ]
  },
  {
   "cell_type": "code",
   "execution_count": null,
   "metadata": {
    "colab": {
     "base_uri": "https://localhost:8080/"
    },
    "id": "pS_enO0HEIRc",
    "outputId": "a4d00d17-c0f5-4c62-a640-446ddff721a8",
    "vscode": {
     "languageId": "python"
    }
   },
   "outputs": [],
   "source": [
    "# creating documnet.txt and vocab.txt files\n",
    "!python /content/drive/MyDrive/python/NeMo/scripts/tokenizers/process_asr_text_tokenizer.py \\\n",
    "--manifest=/content/drive/MyDrive/python/manifest/huggingface/train.json\\\n",
    "--data_root=/content/drive/MyDrive/python/manifest/huggingface \\\n",
    "--vocab_size=100 \\\n",
    "--tokenizer=spe"
   ]
  },
  {
   "cell_type": "markdown",
   "metadata": {
    "id": "luB5ouP236wg"
   },
   "source": [
    "# Conformer CTC Char"
   ]
  },
  {
   "cell_type": "code",
   "execution_count": null,
   "metadata": {
    "id": "lrhIA-Nt4BPQ",
    "vscode": {
     "languageId": "python"
    }
   },
   "outputs": [],
   "source": [
    "!pwd\n",
    "%cd /home/saurabh/python/notebooks/nemo_new_18feb/saved_model/new"
   ]
  },
  {
   "cell_type": "code",
   "execution_count": null,
   "metadata": {
    "id": "YMNtkoUprvVa",
    "vscode": {
     "languageId": "python"
    }
   },
   "outputs": [],
   "source": [
    "labels_hindi =[\"\",\"<s>\",\"</s>\",\"⁇\",\" \",\"ँ\",\"ं\",\"ः\",\"अ\",\"आ\",\"इ\",\"ई\",\"उ\",\"ऊ\",\"ऋ\",\"ए\",\"ऐ\",\"ऑ\",\"ओ\",\"औ\",\"क\",\"ख\",\"ग\",\"घ\",\"ङ\",\"च\",\"छ\",\"ज\",\"झ\",\"ञ\",\"ट\",\"ठ\",\"ड\",\"ढ\",\"ण\",\"त\",\"थ\",\"द\",\"ध\",\"न\",\"प\",\"फ\",\"ब\",\"भ\",\"म\",\"य\",\"र\",\"ल\",\"व\",\"श\",\"ष\",\"स\",\"ह\",\"़\",\"ा\",\"ि\",\"ी\",\"ु\",\"ू\",\"ृ\",\"ॅ\",\"े\",\"ै\",\"ॉ\",\"ो\",\"ौ\",\"्\",\"ळ\"]\n",
    "labels_marathi = []"
   ]
  },
  {
   "cell_type": "code",
   "execution_count": null,
   "metadata": {
    "colab": {
     "base_uri": "https://localhost:8080/"
    },
    "id": "--3_Tzrj3-yg",
    "outputId": "7b1b659e-6945-4d8e-a817-cf4a18aec60d",
    "vscode": {
     "languageId": "python"
    }
   },
   "outputs": [],
   "source": [
    "import time\n",
    "start_time = time.time()\n",
    "\n",
    "!python /home/saurabh/python/nemo/NeMo/examples/asr/asr_ctc/speech_to_text_ctc.py \\\n",
    "--config-path=/home/saurabh/python/nemo/NeMo/examples/asr/conf/conformer \\\n",
    "--config-name=conformer_ctc_char \\\n",
    "model.train_ds.manifest_filepath=/home/saurabh/python/notebooks/nemo_new_18feb/manifest/assamese/train.json \\\n",
    "model.validation_ds.manifest_filepath=/home/saurabh/python/notebooks/nemo_new_18feb/manifest/assamese/valid.json\\\n",
    "trainer.max_epochs=4 \\\n",
    "model.labels=$labels_hindi \\\n",
    "model.encoder.n_layers=8 \\\n",
    "model.encoder.n_heads=2\n",
    "\n",
    "end_time = time.time()\n",
    "print(f'\\n*** Time: {end_time-start_time} secs***')"
   ]
  },
  {
   "cell_type": "code",
   "execution_count": null,
   "metadata": {
    "vscode": {
     "languageId": "python"
    }
   },
   "outputs": [],
   "source": []
  },
  {
   "cell_type": "code",
   "execution_count": null,
   "metadata": {
    "vscode": {
     "languageId": "python"
    }
   },
   "outputs": [],
   "source": []
  },
  {
   "cell_type": "code",
   "execution_count": null,
   "metadata": {
    "id": "mGqUsZMZnocp",
    "vscode": {
     "languageId": "python"
    }
   },
   "outputs": [],
   "source": [
    "!export HYDRA_FULL_ERROR=1\n",
    "\n",
    "import time\n",
    "start_time = time.time()\n",
    "\n",
    "!python /content/drive/MyDrive/python/NeMo/examples/asr/asr_ctc/speech_to_text_ctc.py \\\n",
    "--config-path=/content/drive/MyDrive/python/NeMo/examples/asr/conf/conformer \\\n",
    "--config-name=conformer_ctc_bpe \\\n",
    "model.train_ds.manifest_filepath=/content/drive/MyDrive/python/notebooks/nemo/hindi/manifest_vakyansh/train.json \\\n",
    "model.validation_ds.manifest_filepath=/content/drive/MyDrive/python/notebooks/nemo/hindi/manifest_vakyansh/valid.json \\\n",
    "model.tokenizer.dir=/content/drive/MyDrive/python/notebooks/nemo/hindi/manifest_vakyansh/tokenizer_spe_bpe_v100_pad_bos_eos \\\n",
    "model.tokenizer.type=bpe \\\n",
    "trainer.max_epochs=4 \n",
    "\n",
    "\n",
    "end_time = time.time()\n",
    "print(f'\\n*** Time: {end_time-start_time} secs***')"
   ]
  },
  {
   "cell_type": "markdown",
   "metadata": {
    "id": "WTiHhK9H9ZrN"
   },
   "source": [
    "# Conformer RNNT Char"
   ]
  },
  {
   "cell_type": "code",
   "execution_count": null,
   "metadata": {
    "colab": {
     "base_uri": "https://localhost:8080/"
    },
    "id": "BQ4s4BAd9cym",
    "outputId": "2536f772-87d4-4881-8760-d7144991a35d",
    "vscode": {
     "languageId": "python"
    }
   },
   "outputs": [],
   "source": [
    "!python /content/drive/MyDrive/python/NeMo/examples/asr/asr_transducer/speech_to_text_rnnt.py\\\n",
    "--config-path=/content/drive/MyDrive/python/NeMo/examples/asr/conf/conformer \\\n",
    "--config-name=conformer_transducer_char \\\n",
    "model.train_ds.manifest_filepath=/content/drive/MyDrive/python/notebooks/nemo/hindi/manifest_vakyansh/train.json \\\n",
    "model.validation_ds.manifest_filepath=/content/drive/MyDrive/python/notebooks/nemo/hindi/manifest_vakyansh/valid.json \\\n",
    "trainer.max_epochs=4 "
   ]
  },
  {
   "cell_type": "markdown",
   "metadata": {
    "id": "NDVWXIiL1aCF"
   },
   "source": [
    "# Conformer Hybrid"
   ]
  },
  {
   "cell_type": "code",
   "execution_count": null,
   "metadata": {
    "id": "EDxzhILB1cBC",
    "vscode": {
     "languageId": "python"
    }
   },
   "outputs": [],
   "source": [
    "! python /content/drive/MyDrive/python/NeMo/examples/asr/asr_hybrid_transducer_ctc/speech_to_text_hybrid_rnnt_ctc_char.py \\\n",
    "--config-path=/content/drive/MyDrive/python/NeMo/examples/asr/conf/conformer/hybrid_transducer_ctc \\\n",
    "--config-name=conformer_hybrid_transducer_ctc_char \\\n",
    "model.train_ds.manifest_filepath=/content/drive/MyDrive/python/notebooks/nemo/hindi/manifest_vakyansh/train.json \\\n",
    "model.validation_ds.manifest_filepath=/content/drive/MyDrive/python/notebooks/nemo/hindi/manifest_vakyansh/valid.json \\\n",
    "trainer.max_epochs=4 "
   ]
  },
  {
   "cell_type": "markdown",
   "metadata": {
    "id": "IIq1b4MJ2C1H"
   },
   "source": [
    "\n",
    "# Squeeze Former\n",
    "\n"
   ]
  },
  {
   "cell_type": "code",
   "execution_count": null,
   "metadata": {
    "colab": {
     "base_uri": "https://localhost:8080/"
    },
    "id": "6TpaCvAn3Z5q",
    "outputId": "8ee8bfa7-4726-4287-b5f9-0e82d459ed12",
    "vscode": {
     "languageId": "python"
    }
   },
   "outputs": [],
   "source": [
    "!python /content/drive/MyDrive/python/NeMo/examples/asr/asr_ctc/speech_to_text_ctc.py \\\n",
    "--config-path=/content/drive/MyDrive/python/NeMo/examples/asr/conf/squeezeformer \\\n",
    "--config-name=squeezeformer_ctc_char\\\n",
    "model.train_ds.manifest_filepath=/content/drive/MyDrive/python/notebooks/nemo/hindi/manifest_vakyansh/train.json \\\n",
    "model.validation_ds.manifest_filepath=/content/drive/MyDrive/python/notebooks/nemo/hindi/manifest_vakyansh/valid.json \\\n",
    "trainer.max_epochs=4"
   ]
  },
  {
   "cell_type": "markdown",
   "metadata": {
    "id": "BWXISgEg3poT"
   },
   "source": [
    "# Wav2vec2 CTC"
   ]
  },
  {
   "cell_type": "code",
   "execution_count": null,
   "metadata": {
    "colab": {
     "base_uri": "https://localhost:8080/"
    },
    "id": "4_D4zhnh4TGh",
    "outputId": "0d69adfc-7a6e-49b1-99ec-7305f68a1beb",
    "vscode": {
     "languageId": "python"
    }
   },
   "outputs": [],
   "source": [
    "!python /content/drive/MyDrive/python/NeMo/examples/asr/asr_ctc/speech_to_text_ctc_bpe.py \\\n",
    "--config-path=/content/drive/MyDrive/python/NeMo/examples/asr/conf/wav2vec_ctc \\\n",
    "--config-name=wav2vecCTC \\\n",
    "model.train_ds.manifest_filepath=/content/drive/MyDrive/python/notebooks/nemo/hindi/manifest_vakyansh/train.json \\\n",
    "model.validation_ds.manifest_filepath=/content/drive/MyDrive/python/notebooks/nemo/hindi/manifest_vakyansh/valid.json \\\n",
    "model.train_ds.batch_size=1 \\\n",
    "model.validation_ds.batch_size=1 \\\n",
    "model.tokenizer.dir=/content/drive/MyDrive/python/notebooks/nemo/hindi/manifest_vakyansh/tokenizer_spe_bpe_v100 \\\n",
    "trainer.max_epochs=4"
   ]
  },
  {
   "cell_type": "markdown",
   "metadata": {
    "id": "FhLFdYDQ5RlP"
   },
   "source": [
    "# Quartznet"
   ]
  },
  {
   "cell_type": "code",
   "execution_count": null,
   "metadata": {
    "colab": {
     "base_uri": "https://localhost:8080/"
    },
    "id": "KG9IMktP5ae4",
    "outputId": "3e78ac3e-62a0-42a5-9442-d2fb8720348e",
    "vscode": {
     "languageId": "python"
    }
   },
   "outputs": [],
   "source": [
    "!python /content/drive/MyDrive/python/NeMo/examples/asr/asr_ctc/speech_to_text_ctc.py \\\n",
    "--config-path=/content/drive/MyDrive/python/NeMo/examples/asr/conf/quartznet \\\n",
    "--config-name=quartznet_15x5 \\\n",
    "model.train_ds.manifest_filepath=/content/drive/MyDrive/python/notebooks/nemo/hindi/manifest_vakyansh/train.json \\\n",
    "model.validation_ds.manifest_filepath=/content/drive/MyDrive/python/notebooks/nemo/hindi/manifest_vakyansh/valid.json \\\n",
    "trainer.max_epochs=4"
   ]
  },
  {
   "cell_type": "markdown",
   "metadata": {
    "id": "0_nCRI0j7n2x"
   },
   "source": [
    "# Contextnet RNNT"
   ]
  },
  {
   "cell_type": "code",
   "execution_count": null,
   "metadata": {
    "colab": {
     "base_uri": "https://localhost:8080/"
    },
    "id": "wgsInYFn7we2",
    "outputId": "da7f4fdd-0883-4270-a0db-af37eb69ef4a",
    "vscode": {
     "languageId": "python"
    }
   },
   "outputs": [],
   "source": [
    "!python /content/drive/MyDrive/python/NeMo/examples/asr/asr_transducer/speech_to_text_rnnt.py \\\n",
    "--config-path=/content/drive/MyDrive/python/NeMo/examples/asr/conf/contextnet_rnnt \\\n",
    "--config-name=contextnet_rnnt_char \\\n",
    "model.train_ds.manifest_filepath=/content/drive/MyDrive/python/notebooks/nemo/hindi/manifest_vakyansh/train.json \\\n",
    "model.validation_ds.manifest_filepath=/content/drive/MyDrive/python/notebooks/nemo/hindi/manifest_vakyansh/valid.json \\\n",
    "trainer.max_epochs=4"
   ]
  },
  {
   "cell_type": "markdown",
   "metadata": {
    "id": "xjb5ZwiN8pdz"
   },
   "source": [
    "# Citrinet_384"
   ]
  },
  {
   "cell_type": "code",
   "execution_count": null,
   "metadata": {
    "colab": {
     "base_uri": "https://localhost:8080/"
    },
    "id": "4sWvpIlL8qm3",
    "outputId": "26fae682-ba36-45f3-c2fe-79c0be5ec875",
    "vscode": {
     "languageId": "python"
    }
   },
   "outputs": [],
   "source": [
    "!python /content/drive/MyDrive/python/NeMo/examples/asr/asr_ctc/speech_to_text_ctc.py \\\n",
    "--config-path=/content/drive/MyDrive/python/NeMo/examples/asr/conf/citrinet \\\n",
    "--config-name=citrinet_384 \\\n",
    "model.train_ds.manifest_filepath=/content/drive/MyDrive/python/notebooks/nemo/hindi/manifest_vakyansh/train.json \\\n",
    "model.validation_ds.manifest_filepath=/content/drive/MyDrive/python/notebooks/nemo/hindi/manifest_vakyansh/valid.json \\\n",
    "model.tokenizer.dir=/content/drive/MyDrive/python/notebooks/nemo/hindi/manifest_vakyansh/tokenizer_spe_bpe_v100 \\\n",
    "model.tokenizer.type=bpe \\\n",
    "trainer.max_epochs=4"
   ]
  },
  {
   "cell_type": "markdown",
   "metadata": {
    "id": "gqzSl2oQ89PI"
   },
   "source": [
    "# Carnelinet_384 - CTC"
   ]
  },
  {
   "cell_type": "code",
   "execution_count": null,
   "metadata": {
    "id": "tcczseB79dNX",
    "vscode": {
     "languageId": "python"
    }
   },
   "outputs": [],
   "source": [
    "!python /content/drive/MyDrive/python/NeMo/examples/asr/asr_ctc/speech_to_text_ctc.py \\\n",
    "--config-path=/content/drive/MyDrive/python/NeMo/examples/asr/conf/carnelinet \\\n",
    "--config-name=carnelinet_384 \\\n",
    "model.train_ds.manifest_filepath=/content/drive/MyDrive/python/notebooks/nemo/hindi/manifest_vakyansh/train.json \\\n",
    "model.validation_ds.manifest_filepath=/content/drive/MyDrive/python/notebooks/nemo/hindi/manifest_vakyansh/valid.json \\\n",
    "model.tokenizer.dir=/content/drive/MyDrive/python/notebooks/nemo/hindi/manifest_vakyansh/tokenizer_spe_bpe_v100 \\\n",
    "model.tokenizer.type=bpe \\\n",
    "trainer.max_epochs=4\n",
    "\n",
    "# wpe - vocab.txt\n",
    "# bpe - tokenizer.mode"
   ]
  },
  {
   "cell_type": "code",
   "execution_count": null,
   "metadata": {
    "id": "b7sgIpV09phT",
    "vscode": {
     "languageId": "python"
    }
   },
   "outputs": [],
   "source": []
  },
  {
   "cell_type": "markdown",
   "metadata": {
    "id": "SofC6uu_54Au"
   },
   "source": [
    "# Matchboxnet_v1 - speech commands recognition"
   ]
  },
  {
   "cell_type": "code",
   "execution_count": null,
   "metadata": {
    "colab": {
     "base_uri": "https://localhost:8080/"
    },
    "id": "ZMFLdn6p6MDX",
    "outputId": "4ee68f91-cd42-415c-a470-03cb63cff3ee",
    "vscode": {
     "languageId": "python"
    }
   },
   "outputs": [],
   "source": [
    "# no of classes = ? check kro\n",
    "!python /content/drive/MyDrive/python/NeMo/examples/asr/asr_transducer/speech_to_text_rnnt.py \\\n",
    "--config-path=/content/drive/MyDrive/python/NeMo/examples/asr/conf/matchboxnet \\\n",
    "--config-name=matchboxnet_3x1x64_v1 \\\n",
    "model.train_ds.manifest_filepath=/content/drive/MyDrive/python/notebooks/nemo/hindi/manifest_vakyansh/train.json \\\n",
    "model.validation_ds.manifest_filepath=/content/drive/MyDrive/python/notebooks/nemo/hindi/manifest_vakyansh/valid.json \\\n",
    "trainer.max_epochs=4"
   ]
  },
  {
   "cell_type": "markdown",
   "metadata": {
    "id": "sZzox73z6abn"
   },
   "source": [
    "# Marble Net - VAD"
   ]
  },
  {
   "cell_type": "code",
   "execution_count": null,
   "metadata": {
    "colab": {
     "base_uri": "https://localhost:8080/"
    },
    "id": "FCYijewF7HzX",
    "outputId": "1b3ccc62-1bfa-418b-9a6d-4291ff8a5a34",
    "vscode": {
     "languageId": "python"
    }
   },
   "outputs": [],
   "source": [
    "!python /content/drive/MyDrive/python/NeMo/examples/asr/asr_transducer/speech_to_text_rnnt.py \\\n",
    "--config-path=/content/drive/MyDrive/python/NeMo/examples/asr/conf/marblenet \\\n",
    "--config-name=marblenet_3x2x64 \\\n",
    "model.train_ds.manifest_filepath=/content/drive/MyDrive/python/notebooks/nemo/hindi/manifest_vakyansh/train.json \\\n",
    "model.validation_ds.manifest_filepath=/content/drive/MyDrive/python/notebooks/nemo/hindi/manifest_vakyansh/valid.json \\\n",
    "trainer.max_epochs=4"
   ]
  },
  {
   "cell_type": "markdown",
   "metadata": {
    "id": "83jpRLibiCCO"
   },
   "source": [
    "# Adapter with Conformer CTC"
   ]
  },
  {
   "cell_type": "code",
   "execution_count": null,
   "metadata": {
    "colab": {
     "base_uri": "https://localhost:8080/"
    },
    "id": "6Qs2quly7YWh",
    "outputId": "9a4b5594-c2fd-4b22-cce7-d8f2db674f85",
    "vscode": {
     "languageId": "python"
    }
   },
   "outputs": [],
   "source": [
    "start_time = time.time()\n",
    "\n",
    "!python /content/drive/MyDrive/python/NeMo/examples/asr/asr_adapters/train_asr_adapter.py \\\n",
    "--config-path=/content/drive/MyDrive/python/NeMo/examples/asr/conf/asr_adapters \\\n",
    "--config-name=asr_adaptation \\\n",
    "+model.nemo_model=/content/drive/MyDrive/python/notebooks/nemo/hindi/nemo_experiments/Conformer-CTC-Char/2023-02-11_18-05-08/checkpoints/Conformer-CTC-Char.nemo \\\n",
    "+model.adapter.adapter_name=confomer_adapter \\\n",
    "model.adapter.adapter_type=linear \\\n",
    "+model.adapter.adapter_module_name=encoder \\\n",
    "+model.adapter.linear.in_features=model.cfg.encoder.d_model \\\n",
    "model.adapter.linear.dim=32 \\\n",
    "model.adapter.linear.dropout=0.0 \\\n",
    "+model.train_ds.manifest_filepath=/content/drive/MyDrive/python/notebooks/nemo/hindi/manifest_vakyansh/train.json \\\n",
    "model.train_ds.batch_size=2 \\\n",
    "+model.validation_ds.manifest_filepath=/content/drive/MyDrive/python/notebooks/nemo/hindi/manifest_vakyansh/valid.json \\\n",
    "model.validation_ds.batch_size=2 \\\n",
    "model.optim.weight_decay=0.0 \\\n",
    "trainer.devices=1 \\\n",
    "trainer.precision=32 \\\n",
    "trainer.max_epochs=4 \n",
    "\n",
    "end_time = time.time()\n",
    "print(f'\\n*** Time: {end_time-start_time} secs***')"
   ]
  },
  {
   "cell_type": "code",
   "execution_count": null,
   "metadata": {
    "id": "mIibquP8WUWn",
    "vscode": {
     "languageId": "python"
    }
   },
   "outputs": [],
   "source": []
  },
  {
   "cell_type": "code",
   "execution_count": null,
   "metadata": {
    "id": "-fVa_g9xWUZI",
    "vscode": {
     "languageId": "python"
    }
   },
   "outputs": [],
   "source": []
  },
  {
   "cell_type": "code",
   "execution_count": null,
   "metadata": {
    "id": "4HPX6QdLWUba",
    "vscode": {
     "languageId": "python"
    }
   },
   "outputs": [],
   "source": []
  },
  {
   "cell_type": "code",
   "execution_count": null,
   "metadata": {
    "id": "FJKkx-UdWUd6",
    "vscode": {
     "languageId": "python"
    }
   },
   "outputs": [],
   "source": []
  },
  {
   "cell_type": "code",
   "execution_count": null,
   "metadata": {
    "id": "wjr_JmvhWUgx",
    "vscode": {
     "languageId": "python"
    }
   },
   "outputs": [],
   "source": []
  },
  {
   "cell_type": "code",
   "execution_count": null,
   "metadata": {
    "id": "aQKPgcyZWUjJ",
    "vscode": {
     "languageId": "python"
    }
   },
   "outputs": [],
   "source": []
  },
  {
   "cell_type": "markdown",
   "metadata": {
    "id": "I_oiV9xDx7mb"
   },
   "source": [
    "# Large Conformer-CTC"
   ]
  },
  {
   "cell_type": "markdown",
   "metadata": {
    "id": "HipgzwVhWX86"
   },
   "source": [
    "### Lables"
   ]
  },
  {
   "cell_type": "code",
   "execution_count": null,
   "metadata": {
    "id": "cs0DcNNbVRP0",
    "vscode": {
     "languageId": "python"
    }
   },
   "outputs": [],
   "source": [
    "ls = []\n",
    "with open('/content/drive/MyDrive/python/manifest/huggingface/tokenizer_wpe_v100/vocab.txt') as f:\n",
    "  for i, num in enumerate(f):\n",
    "    ls.append(num[:-1])"
   ]
  },
  {
   "cell_type": "markdown",
   "metadata": {
    "id": "sNjwXcitWcdP"
   },
   "source": [
    "### Model"
   ]
  },
  {
   "cell_type": "markdown",
   "metadata": {
    "id": "EYiCPrtl9ort"
   },
   "source": [
    "CHAR - conformer ctc - 16k dataset\n",
    "\n",
    "1 epoch = 11 mins\n",
    "\n",
    "3 epoch = 31 mins\n",
    "\n",
    "4 epoch = 42 mins\n",
    "\n",
    "\n",
    "CHAR - conformer ctc - 16k dataset - hindi lables\n",
    " \n",
    "1 epoch = 11 mins\n",
    "\n",
    "2 epoch = \n",
    "\n",
    "3 epoch = 31 mins\n",
    "\n",
    "4 epoch = 42 mins"
   ]
  },
  {
   "cell_type": "markdown",
   "metadata": {
    "id": "wx053DCJYtcb"
   },
   "source": [
    "### Medium model - 30m parameters"
   ]
  },
  {
   "cell_type": "code",
   "execution_count": null,
   "metadata": {
    "colab": {
     "base_uri": "https://localhost:8080/"
    },
    "id": "KiG9yDhXx8_Y",
    "outputId": "6e9aab52-90e6-4b41-cadc-dd27dc5a4ed5",
    "vscode": {
     "languageId": "python"
    }
   },
   "outputs": [],
   "source": [
    "%cd /content/drive/MyDrive/python\n",
    "import time\n",
    "start_time = time.time()\n",
    "\n",
    "!python /content/drive/MyDrive/python/NeMo/examples/asr/asr_ctc/speech_to_text_ctc.py \\\n",
    "--config-path=/content/drive/MyDrive/python/NeMo/examples/asr/conf/conformer \\\n",
    "--config-name=conformer_ctc_char \\\n",
    "model.train_ds.manifest_filepath=/content/drive/MyDrive/python/manifest/huggingface/train.json \\\n",
    "model.validation_ds.manifest_filepath=/content/drive/MyDrive/python/manifest/huggingface/valid.json \\\n",
    "model.encoder.n_layers=18 \\\n",
    "model.spec_augment.time_masks=5 \\\n",
    "model.encoder.d_model=256 \\\n",
    "model.encoder.n_heads=4 \n",
    "\n",
    "end_time = time.time()\n",
    "print(f'\\n*** Time: {end_time-start_time} secs***')"
   ]
  },
  {
   "cell_type": "code",
   "execution_count": null,
   "metadata": {
    "id": "7XCQHbCQXWsl",
    "vscode": {
     "languageId": "python"
    }
   },
   "outputs": [],
   "source": []
  }
 ],
 "metadata": {
  "colab": {
   "collapsed_sections": [
    "WG4UhyYixqvr",
    "qIt6YaVlECpl",
    "hl1X_vXSEEVL",
    "MY_DQUtKEGSw",
    "WTiHhK9H9ZrN",
    "NDVWXIiL1aCF",
    "IIq1b4MJ2C1H",
    "BWXISgEg3poT",
    "FhLFdYDQ5RlP",
    "0_nCRI0j7n2x",
    "xjb5ZwiN8pdz",
    "gqzSl2oQ89PI",
    "SofC6uu_54Au",
    "sZzox73z6abn",
    "83jpRLibiCCO",
    "HipgzwVhWX86"
   ],
   "provenance": [],
   "toc_visible": true
  },
  "gpuClass": "standard",
  "kernelspec": {
   "display_name": "nemo",
   "language": "python",
   "name": "nemo"
  },
  "vscode": {
   "interpreter": {
    "hash": "cb97416cebb8f1e716e7e6e1263df199f8adf08a309abe92cc85d2786549e2f2"
   }
  }
 },
 "nbformat": 4,
 "nbformat_minor": 1
}
